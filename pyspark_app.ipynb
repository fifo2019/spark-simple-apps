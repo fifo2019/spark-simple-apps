{
  "nbformat": 4,
  "nbformat_minor": 0,
  "metadata": {
    "colab": {
      "name": "pyspark-simple-app.ipynb",
      "provenance": [],
      "collapsed_sections": []
    },
    "kernelspec": {
      "name": "python3",
      "display_name": "Python 3"
    },
    "language_info": {
      "name": "python"
    }
  },
  "cells": [
    {
      "cell_type": "code",
      "execution_count": 1,
      "metadata": {
        "colab": {
          "base_uri": "https://localhost:8080/"
        },
        "id": "Xs0tMUZjdd9M",
        "outputId": "cd1155d7-3537-49e3-ea89-5ec8ade55b94"
      },
      "outputs": [
        {
          "output_type": "stream",
          "name": "stdout",
          "text": [
            "Collecting pyspark\n",
            "  Downloading pyspark-3.2.1.tar.gz (281.4 MB)\n",
            "\u001b[K     |████████████████████████████████| 281.4 MB 28 kB/s \n",
            "\u001b[?25hCollecting py4j==0.10.9.3\n",
            "  Downloading py4j-0.10.9.3-py2.py3-none-any.whl (198 kB)\n",
            "\u001b[K     |████████████████████████████████| 198 kB 51.8 MB/s \n",
            "\u001b[?25hBuilding wheels for collected packages: pyspark\n",
            "  Building wheel for pyspark (setup.py) ... \u001b[?25l\u001b[?25hdone\n",
            "  Created wheel for pyspark: filename=pyspark-3.2.1-py2.py3-none-any.whl size=281853642 sha256=85b41b302d0dc0c12083abaa6117c7b4ba7e9defa0a77ba74d26f50118e936c0\n",
            "  Stored in directory: /root/.cache/pip/wheels/9f/f5/07/7cd8017084dce4e93e84e92efd1e1d5334db05f2e83bcef74f\n",
            "Successfully built pyspark\n",
            "Installing collected packages: py4j, pyspark\n",
            "Successfully installed py4j-0.10.9.3 pyspark-3.2.1\n"
          ]
        }
      ],
      "source": [
        "!pip install pyspark"
      ]
    },
    {
      "cell_type": "code",
      "source": [
        "from pyspark.sql import SparkSession\n",
        "import pyspark.sql.functions as F\n",
        "from pyspark.sql.types import StructType,StructField, StringType, IntegerType, BooleanType"
      ],
      "metadata": {
        "id": "z1-wHYC3d8rC"
      },
      "execution_count": 2,
      "outputs": []
    },
    {
      "cell_type": "markdown",
      "source": [
        "## Задача 1\n",
        "Написать spark приложение, которое в локальном режиме выполняет следующее:\n",
        "По имеющимся данным о рейтингах книг посчитать агрегированную статистику по ним.\n",
        "\n",
        "1. Прочитать csv файл: book.csv\n",
        "2. Вывести схему для dataframe полученного из п.1\n",
        "3. Вывести количество записей\n",
        "4. Вывести информацию по книгам у которых рейтинг выше 4.50\n",
        "5. Вывести средний рейтинг для всех книг.\n",
        "6. Вывести агрегированную инфорацию по количеству книг в диапазонах:\n",
        "0 - 1\n",
        "1 - 2\n",
        "2 - 3\n",
        "3 - 4\n",
        "4 - 5"
      ],
      "metadata": {
        "id": "KLqsdGZweD0n"
      }
    },
    {
      "cell_type": "code",
      "source": [
        "spark = SparkSession.builder.appName(\"pyspark-simple-app\").getOrCreate()\n",
        "spark"
      ],
      "metadata": {
        "colab": {
          "base_uri": "https://localhost:8080/",
          "height": 219
        },
        "id": "BTACVgDdeLcO",
        "outputId": "5b27a8aa-3153-4a23-9b2f-9154106903f9"
      },
      "execution_count": 3,
      "outputs": [
        {
          "output_type": "execute_result",
          "data": {
            "text/plain": [
              "<pyspark.sql.session.SparkSession at 0x7f58b5463ed0>"
            ],
            "text/html": [
              "\n",
              "            <div>\n",
              "                <p><b>SparkSession - in-memory</b></p>\n",
              "                \n",
              "        <div>\n",
              "            <p><b>SparkContext</b></p>\n",
              "\n",
              "            <p><a href=\"http://731d36b458db:4040\">Spark UI</a></p>\n",
              "\n",
              "            <dl>\n",
              "              <dt>Version</dt>\n",
              "                <dd><code>v3.2.1</code></dd>\n",
              "              <dt>Master</dt>\n",
              "                <dd><code>local[*]</code></dd>\n",
              "              <dt>AppName</dt>\n",
              "                <dd><code>pyspark-simple-app</code></dd>\n",
              "            </dl>\n",
              "        </div>\n",
              "        \n",
              "            </div>\n",
              "        "
            ]
          },
          "metadata": {},
          "execution_count": 3
        }
      ]
    },
    {
      "cell_type": "code",
      "source": [
        "# Прочитать csv файл: book.csv\n",
        "\n",
        "df = spark.read.options(header=True, inferSchema=True).csv(\"/content/source/books.csv\")"
      ],
      "metadata": {
        "id": "iJJOwADAeVHQ"
      },
      "execution_count": 5,
      "outputs": []
    },
    {
      "cell_type": "code",
      "source": [
        "df.show(truncate=False)"
      ],
      "metadata": {
        "colab": {
          "base_uri": "https://localhost:8080/"
        },
        "id": "wsECN0eOegq7",
        "outputId": "f3aac8ce-4c49-4133-da2c-6e39da90325d"
      },
      "execution_count": 6,
      "outputs": [
        {
          "output_type": "stream",
          "name": "stdout",
          "text": [
            "+------+------------------------------------------------------------------------------------------------------------+--------------------------+--------------+----------+-------------+-------------+-----------+-------------+------------------+----------------+-------------------------+\n",
            "|bookID|title                                                                                                       |authors                   |average_rating|isbn      |isbn13       |language_code|  num_pages|ratings_count|text_reviews_count|publication_date|publisher                |\n",
            "+------+------------------------------------------------------------------------------------------------------------+--------------------------+--------------+----------+-------------+-------------+-----------+-------------+------------------+----------------+-------------------------+\n",
            "|1     |Harry Potter and the Half-Blood Prince (Harry Potter  #6)                                                   |J.K. Rowling/Mary GrandPré|4.57          |0439785960|9780439785969|eng          |652        |2095690      |27591             |9/16/2006       |Scholastic Inc.          |\n",
            "|2     |Harry Potter and the Order of the Phoenix (Harry Potter  #5)                                                |J.K. Rowling/Mary GrandPré|4.49          |0439358078|9780439358071|eng          |870        |2153167      |29221             |9/1/2004        |Scholastic Inc.          |\n",
            "|4     |Harry Potter and the Chamber of Secrets (Harry Potter  #2)                                                  |J.K. Rowling              |4.42          |0439554896|9780439554893|eng          |352        |6333         |244               |11/1/2003       |Scholastic               |\n",
            "|5     |Harry Potter and the Prisoner of Azkaban (Harry Potter  #3)                                                 |J.K. Rowling/Mary GrandPré|4.56          |043965548X|9780439655484|eng          |435        |2339585      |36325             |5/1/2004        |Scholastic Inc.          |\n",
            "|8     |Harry Potter Boxed Set  Books 1-5 (Harry Potter  #1-5)                                                      |J.K. Rowling/Mary GrandPré|4.78          |0439682584|9780439682589|eng          |2690       |41428        |164               |9/13/2004       |Scholastic               |\n",
            "|9     |Unauthorized Harry Potter Book Seven News: \"Half-Blood Prince\" Analysis and Speculation                     |W. Frederick Zimmerman    |3.74          |0976540606|9780976540601|en-US        |152        |19           |1                 |4/26/2005       |Nimble Books             |\n",
            "|10    |Harry Potter Collection (Harry Potter  #1-6)                                                                |J.K. Rowling              |4.73          |0439827604|9780439827607|eng          |3342       |28242        |808               |9/12/2005       |Scholastic               |\n",
            "|12    |The Ultimate Hitchhiker's Guide: Five Complete Novels and One Story (Hitchhiker's Guide to the Galaxy  #1-5)|Douglas Adams             |4.38          |0517226952|9780517226957|eng          |815        |3628         |254               |11/1/2005       |Gramercy Books           |\n",
            "|13    |The Ultimate Hitchhiker's Guide to the Galaxy (Hitchhiker's Guide to the Galaxy  #1-5)                      |Douglas Adams             |4.38          |0345453743|9780345453747|eng          |815        |249558       |4080              |4/30/2002       |Del Rey Books            |\n",
            "|14    |The Hitchhiker's Guide to the Galaxy (Hitchhiker's Guide to the Galaxy  #1)                                 |Douglas Adams             |4.22          |1400052920|9781400052929|eng          |215        |4930         |460               |8/3/2004        |Crown                    |\n",
            "|16    |The Hitchhiker's Guide to the Galaxy (Hitchhiker's Guide to the Galaxy  #1)                                 |Douglas Adams/Stephen Fry |4.22          |0739322206|9780739322208|eng          |6          |1266         |253               |3/23/2005       |Random House Audio       |\n",
            "|18    |The Ultimate Hitchhiker's Guide (Hitchhiker's Guide to the Galaxy  #1-5)                                    |Douglas Adams             |4.38          |0517149257|9780517149256|eng          |815        |2877         |195               |1/17/1996       |Wings Books              |\n",
            "|21    |A Short History of Nearly Everything                                                                        |Bill Bryson               |4.21          |076790818X|9780767908184|eng          |544        |248558       |9396              |9/14/2004       |Broadway Books           |\n",
            "|22    |Bill Bryson's African Diary                                                                                 |Bill Bryson               |3.44          |0767915062|9780767915069|eng          |55         |7270         |499               |12/3/2002       |Broadway Books           |\n",
            "|23    |Bryson's Dictionary of Troublesome Words: A Writer's Guide to Getting It Right                              |Bill Bryson               |3.87          |0767910435|9780767910439|eng          |256        |2088         |131               |9/14/2004       |Broadway Books           |\n",
            "|24    |In a Sunburned Country                                                                                      |Bill Bryson               |4.07          |0767903862|9780767903868|eng          |335        |72451        |4245              |5/15/2001       |Broadway Books           |\n",
            "|25    |I'm a Stranger Here Myself: Notes on Returning to America After Twenty Years Away                           |Bill Bryson               |3.90          |076790382X|9780767903820|eng          |304        |49240        |2211              |6/28/2000       |Broadway Books           |\n",
            "|26    |The Lost Continent: Travels in Small Town America                                                           |Bill Bryson               |3.83          |0060920084|9780060920081|eng          |299        |45712        |2257              |8/28/1990       |William Morrow Paperbacks|\n",
            "|27    |Neither Here nor There: Travels in Europe                                                                   |Bill Bryson               |3.86          |0380713802|9780380713806|eng          |254        |48701        |2238              |3/28/1993       |William Morrow Paperbacks|\n",
            "|28    |Notes from a Small Island                                                                                   |Bill Bryson               |3.91          |0380727501|9780380727506|eng          |324        |80609        |3301              |5/28/1997       |William Morrow Paperbacks|\n",
            "+------+------------------------------------------------------------------------------------------------------------+--------------------------+--------------+----------+-------------+-------------+-----------+-------------+------------------+----------------+-------------------------+\n",
            "only showing top 20 rows\n",
            "\n"
          ]
        }
      ]
    },
    {
      "cell_type": "code",
      "source": [
        "# Вывести схему для dataframe полученного из п.1\n",
        "\n",
        "df.printSchema()"
      ],
      "metadata": {
        "colab": {
          "base_uri": "https://localhost:8080/"
        },
        "id": "AqjRyewteiIl",
        "outputId": "fe2e2967-fb3e-4224-b63f-e369a04d1e01"
      },
      "execution_count": 7,
      "outputs": [
        {
          "output_type": "stream",
          "name": "stdout",
          "text": [
            "root\n",
            " |-- bookID: integer (nullable = true)\n",
            " |-- title: string (nullable = true)\n",
            " |-- authors: string (nullable = true)\n",
            " |-- average_rating: string (nullable = true)\n",
            " |-- isbn: string (nullable = true)\n",
            " |-- isbn13: string (nullable = true)\n",
            " |-- language_code: string (nullable = true)\n",
            " |--   num_pages: string (nullable = true)\n",
            " |-- ratings_count: integer (nullable = true)\n",
            " |-- text_reviews_count: integer (nullable = true)\n",
            " |-- publication_date: string (nullable = true)\n",
            " |-- publisher: string (nullable = true)\n",
            "\n"
          ]
        }
      ]
    },
    {
      "cell_type": "code",
      "source": [
        "# Вывести количество записей\n",
        "\n",
        "df.count()"
      ],
      "metadata": {
        "colab": {
          "base_uri": "https://localhost:8080/"
        },
        "id": "ejbrceseelsh",
        "outputId": "5ebf9dc1-3eaa-4492-f4db-c849fa5a2bd9"
      },
      "execution_count": 8,
      "outputs": [
        {
          "output_type": "execute_result",
          "data": {
            "text/plain": [
              "11127"
            ]
          },
          "metadata": {},
          "execution_count": 8
        }
      ]
    },
    {
      "cell_type": "code",
      "source": [
        "# Вывести информацию по книгам у которых рейтинг выше 4.50\n",
        "\n",
        "df.filter(F.col(\"average_rating\") > 4.50).show()"
      ],
      "metadata": {
        "colab": {
          "base_uri": "https://localhost:8080/"
        },
        "id": "uKoqWykueo1D",
        "outputId": "d3c08c1e-a5af-4a03-e7f3-66a4b9b4b064"
      },
      "execution_count": 9,
      "outputs": [
        {
          "output_type": "stream",
          "name": "stdout",
          "text": [
            "+------+--------------------+--------------------+--------------+----------+-------------+-------------+-----------+-------------+------------------+----------------+--------------------+\n",
            "|bookID|               title|             authors|average_rating|      isbn|       isbn13|language_code|  num_pages|ratings_count|text_reviews_count|publication_date|           publisher|\n",
            "+------+--------------------+--------------------+--------------+----------+-------------+-------------+-----------+-------------+------------------+----------------+--------------------+\n",
            "|     1|Harry Potter and ...|J.K. Rowling/Mary...|          4.57|0439785960|9780439785969|          eng|        652|      2095690|             27591|       9/16/2006|     Scholastic Inc.|\n",
            "|     5|Harry Potter and ...|J.K. Rowling/Mary...|          4.56|043965548X|9780439655484|          eng|        435|      2339585|             36325|        5/1/2004|     Scholastic Inc.|\n",
            "|     8|Harry Potter Boxe...|J.K. Rowling/Mary...|          4.78|0439682584|9780439682589|          eng|       2690|        41428|               164|       9/13/2004|          Scholastic|\n",
            "|    10|Harry Potter Coll...|        J.K. Rowling|          4.73|0439827604|9780439827607|          eng|       3342|        28242|               808|       9/12/2005|          Scholastic|\n",
            "|    30|J.R.R. Tolkien 4-...|      J.R.R. Tolkien|          4.59|0345538374|9780345538376|          eng|       1728|       101233|              1550|       9/25/2012|    Ballantine Books|\n",
            "|    36|The Lord of the R...|Chris   Smith/Chr...|          4.53|0618391002|9780618391004|          eng|        218|        19822|                46|       11/5/2003|Houghton Mifflin ...|\n",
            "|   119|The Lord of the R...|        Gary Russell|          4.59|0618212906|9780618212903|          eng|        192|        26153|               102|       6/12/2002|Houghton Mifflin ...|\n",
            "|   313|100 Years of Lync...|      Ralph Ginzburg|          4.61|0933121180|9780933121188|          eng|        270|           88|                 4|      11/22/1996| Black Classic Press|\n",
            "|   397|The Gettysburg Ad...|Abraham Lincoln/M...|          4.53|0395883970|9780395883976|          eng|         32|         5239|                76|        2/2/1998|HMH Books for You...|\n",
            "|   866|Fullmetal Alchemi...|Hiromu Arakawa/Ak...|          4.57|142150460X|9781421504605|          eng|        192|         9013|               153|       9/19/2006|       VIZ Media LLC|\n",
            "|   868|Fullmetal Alchemi...|Hiromu Arakawa/Ak...|          4.56|1591169259|9781591169253|          eng|        192|        16666|               299|       9/13/2005|       VIZ Media LLC|\n",
            "|   869|Fullmetal Alchemi...|Hiromu Arakawa/Ak...|          4.57|1421504596|9781421504599|          eng|        192|        11451|               161|       7/18/2006|       VIZ Media LLC|\n",
            "|   871|Fullmetal Alchemi...|Hiromu Arakawa/Ak...|          4.55|1591169291|9781591169291|          eng|        200|        10752|               294|       11/8/2005|       VIZ Media LLC|\n",
            "|   873|Fullmetal Alchemi...|Hiromu Arakawa/Ak...|          4.52|1591169232|9781591169239|          eng|        192|        14923|               419|        7/5/2005|       VIZ Media LLC|\n",
            "|   955|The 5 Love Langua...|        Gary Chapman|          4.70|0802415318|9780802415318|          eng|          0|           22|                 4|        1/1/2005|    Moody Publishers|\n",
            "|  1111|The Power Broker:...|      Robert A. Caro|          4.51|0394720245|9780394720241|          eng|       1344|        11208|              1237|       7/12/1975|             Vintage|\n",
            "|  1729|Metamorphoses: Vo...|Ovid/Frank Justus...|          4.52|0674990471|9780674990470|          eng|        499|           61|                 4|        1/1/1985|Harvard Universit...|\n",
            "|  1750|Dionysiac Poetics...|       Charles Segal|          4.62|069101597X|9780691015972|          eng|        440|           12|                 0|      11/16/1997|Princeton Univers...|\n",
            "|  2005|Harry Potter and ...|        J.K. Rowling|          4.57|0747584664|9780747584667|          eng|        768|         1213|                78|       6/23/2006|Bloomsbury Publis...|\n",
            "|  2034|Comoediae 1: Acha...|Aristophanes/F.W....|          5.00|0198145047|9780198145042|          grc|        364|            0|                 0|       2/22/1922|Oxford University...|\n",
            "+------+--------------------+--------------------+--------------+----------+-------------+-------------+-----------+-------------+------------------+----------------+--------------------+\n",
            "only showing top 20 rows\n",
            "\n"
          ]
        }
      ]
    },
    {
      "cell_type": "code",
      "source": [
        "# Вывести средний рейтинг для всех книг.\n",
        "\n",
        "df.agg(F.avg(\"average_rating\")).show()"
      ],
      "metadata": {
        "colab": {
          "base_uri": "https://localhost:8080/"
        },
        "id": "JPh1WaC-esve",
        "outputId": "e35df67d-1301-4e4c-eb36-3b17f1e9fe38"
      },
      "execution_count": 10,
      "outputs": [
        {
          "output_type": "stream",
          "name": "stdout",
          "text": [
            "+-------------------+\n",
            "|avg(average_rating)|\n",
            "+-------------------+\n",
            "|  3.934075339386829|\n",
            "+-------------------+\n",
            "\n"
          ]
        }
      ]
    },
    {
      "cell_type": "code",
      "source": [
        "# Вывести агрегированную инфорацию по количеству книг в диапазонах: 0 - 1 1 - 2 2 - 3 3 - 4 4 - 5\n",
        "\n",
        "output_df = (\n",
        "  df\n",
        "  .filter(F.col(\"average_rating\") >= 0)\n",
        "  .withColumn(\"rating_group\", F.floor(F.col(\"average_rating\").cast('double')))\n",
        "  .groupBy(\"rating_group\")\n",
        "  .count()\n",
        "  .withColumn(\"0 - 1\", F.when((F.col(\"rating_group\") >= 0) & (F.col(\"rating_group\") < 1), F.col(\"count\")))\n",
        "  .withColumn(\"1 - 2\", F.when((F.col(\"rating_group\") >= 1) & (F.col(\"rating_group\") < 2), F.col(\"count\")))\n",
        "  .withColumn(\"2 - 3\", F.when((F.col(\"rating_group\") >= 2) & (F.col(\"rating_group\") < 3), F.col(\"count\")))\n",
        "  .withColumn(\"3 - 4\", F.when((F.col(\"rating_group\") >= 3) & (F.col(\"rating_group\") < 4), F.col(\"count\")))\n",
        "  .withColumn(\"4 - 5\", F.when((F.col(\"rating_group\") >= 4), F.col(\"count\")))\n",
        "  .fillna(0)\n",
        "  .drop(\"rating_group\", \"count\")\n",
        ")\n",
        "\n",
        "output_df = output_df.select([F.sum(c).alias(c) for c in output_df.columns])\n",
        "\n",
        "output_df.show()"
      ],
      "metadata": {
        "colab": {
          "base_uri": "https://localhost:8080/"
        },
        "id": "iFtzFRREexKr",
        "outputId": "d511f4a2-18ba-451f-c886-2a7fa363cb3b"
      },
      "execution_count": 11,
      "outputs": [
        {
          "output_type": "stream",
          "name": "stdout",
          "text": [
            "+-----+-----+-----+-----+-----+\n",
            "|0 - 1|1 - 2|2 - 3|3 - 4|4 - 5|\n",
            "+-----+-----+-----+-----+-----+\n",
            "|   25|    3|   56| 6085| 4954|\n",
            "+-----+-----+-----+-----+-----+\n",
            "\n"
          ]
        }
      ]
    },
    {
      "cell_type": "markdown",
      "source": [
        "\n",
        "## Задача 2\n",
        "Написать spark приложение, которое в локальном режиме выполняет следующее:\n",
        "По имеющимся данным о рейтингах фильмов (MovieLens: 100 000 рейтингов) посчитать агрегированную статистику по ним.\n",
        "\n",
        "## Описание данных\n",
        "Имеются следующие входные данные:\n",
        "Архив с рейтингами фильмов.\n",
        "Файл REDAME содержит описания файлов.\n",
        "Файл u.data содержит все оценки, а файл u.item — список всех фильмов. (используются только эти два файла)\n",
        "id_film=32\n",
        "\n",
        "1. Прочитать данные файлы.\n",
        "2. создать выходной файл в формате json, где\n",
        "Поле `“Toy Story ”` нужно заменить на название фильма, соответствующего id_film и указать для заданного фильма количество поставленных оценок в следующем порядке: `\"1\", \"2\", \"3\", \"4\", \"5\"`. То есть сколько было единичек, двоек, троек и т.д.\n",
        "В поле `“hist_all”` нужно указать то же самое только для всех фильмов общее количество поставленных оценок в том же порядке: `\"1\", \"2\", \"3\", \"4\", \"5\"`.\n",
        "\n",
        "Пример решения:\n",
        "\n",
        "{\n",
        "   \"Toy Story\": [ \n",
        "      134,\n",
        "      123,\n",
        "      782,\n",
        "      356,\n",
        "      148\n",
        "   ],\n",
        "   \"hist_all\": [ \n",
        "      134,\n",
        "      123,\n",
        "      782,\n",
        "      356,\n",
        "      148\n",
        "   ]\n",
        "}\n"
      ],
      "metadata": {
        "id": "q18MXW1ZfAzo"
      }
    },
    {
      "cell_type": "code",
      "source": [
        "from zipfile import ZipFile\n",
        "ZipFile(\"/content/source/data.zip\").extractall()"
      ],
      "metadata": {
        "id": "TflMQcgwe7fC"
      },
      "execution_count": 15,
      "outputs": []
    },
    {
      "cell_type": "code",
      "source": [
        "schema_u_data = StructType([\n",
        "  StructField(\"user_id\", StringType(), True),\n",
        "  StructField(\"item_id\", StringType(), True),\n",
        "  StructField(\"rating\", IntegerType(), True),\n",
        "  StructField(\"timestamp\", StringType(), True)\n",
        "])\n",
        "\n",
        "df_evaluations = spark.read.load(\"/content/ml-100k/u.data\", format=\"csv\", sep=\"\\t\", schema=schema_u_data)\n",
        "df_evaluations.show(truncate=False)\n",
        "df_evaluations.printSchema()"
      ],
      "metadata": {
        "colab": {
          "base_uri": "https://localhost:8080/"
        },
        "id": "q5aaWDSVftWm",
        "outputId": "138ab7a9-c600-4e0e-d0ed-3bad6ee3e638"
      },
      "execution_count": 16,
      "outputs": [
        {
          "output_type": "stream",
          "name": "stdout",
          "text": [
            "+-------+-------+------+---------+\n",
            "|user_id|item_id|rating|timestamp|\n",
            "+-------+-------+------+---------+\n",
            "|196    |242    |3     |881250949|\n",
            "|186    |302    |3     |891717742|\n",
            "|22     |377    |1     |878887116|\n",
            "|244    |51     |2     |880606923|\n",
            "|166    |346    |1     |886397596|\n",
            "|298    |474    |4     |884182806|\n",
            "|115    |265    |2     |881171488|\n",
            "|253    |465    |5     |891628467|\n",
            "|305    |451    |3     |886324817|\n",
            "|6      |86     |3     |883603013|\n",
            "|62     |257    |2     |879372434|\n",
            "|286    |1014   |5     |879781125|\n",
            "|200    |222    |5     |876042340|\n",
            "|210    |40     |3     |891035994|\n",
            "|224    |29     |3     |888104457|\n",
            "|303    |785    |3     |879485318|\n",
            "|122    |387    |5     |879270459|\n",
            "|194    |274    |2     |879539794|\n",
            "|291    |1042   |4     |874834944|\n",
            "|234    |1184   |2     |892079237|\n",
            "+-------+-------+------+---------+\n",
            "only showing top 20 rows\n",
            "\n",
            "root\n",
            " |-- user_id: string (nullable = true)\n",
            " |-- item_id: string (nullable = true)\n",
            " |-- rating: integer (nullable = true)\n",
            " |-- timestamp: string (nullable = true)\n",
            "\n"
          ]
        }
      ]
    },
    {
      "cell_type": "code",
      "source": [
        "schema_u_item = StructType([\n",
        "  StructField(\"movie_id\", StringType(), True),\n",
        "  StructField(\"movie_title\", StringType(), True),\n",
        "  StructField(\"release_date\", StringType(), True),\n",
        "  StructField(\"video_release_date\", StringType(), True),\n",
        "  StructField(\"IMDb_URL\", StringType(), True),\n",
        "  StructField(\"unknown\", IntegerType(), True),\n",
        "  StructField(\"Action\", IntegerType(), True),\n",
        "  StructField(\"Adventure\", IntegerType(), True),\n",
        "  StructField(\"Animation\", IntegerType(), True),\n",
        "  StructField(\"Children's\", IntegerType(), True),\n",
        "  StructField(\"Comedy\", IntegerType(), True),\n",
        "  StructField(\"Crime\", IntegerType(), True),\n",
        "  StructField(\"Documentary\", IntegerType(), True),\n",
        "  StructField(\"Drama\", IntegerType(), True),\n",
        "  StructField(\"Fantasy\", IntegerType(), True),\n",
        "  StructField(\"Film-Noir\", IntegerType(), True),\n",
        "  StructField(\"Horror\", IntegerType(), True),\n",
        "  StructField(\"Musical\", IntegerType(), True),\n",
        "  StructField(\"Mystery\", IntegerType(), True),\n",
        "  StructField(\"Romance\", IntegerType(), True),\n",
        "  StructField(\"Sci-Fi\", IntegerType(), True),\n",
        "  StructField(\"Thriller\", IntegerType(), True),\n",
        "  StructField(\"War\", IntegerType(), True),\n",
        "  StructField(\"Western\", IntegerType(), True)\n",
        "])\n",
        "\n",
        "df_films = spark.read.load(\"/content/ml-100k/u.item\", format=\"csv\", sep=\"|\", schema=schema_u_item)\n",
        "df_films.show(truncate=False)\n",
        "df_films.printSchema()"
      ],
      "metadata": {
        "colab": {
          "base_uri": "https://localhost:8080/"
        },
        "id": "WzgViEttfzHu",
        "outputId": "ec99d99a-6f95-45ba-9781-b36965c9041a"
      },
      "execution_count": 17,
      "outputs": [
        {
          "output_type": "stream",
          "name": "stdout",
          "text": [
            "+--------+----------------------------------------------------+------------+------------------+-------------------------------------------------------------------+-------+------+---------+---------+----------+------+-----+-----------+-----+-------+---------+------+-------+-------+-------+------+--------+---+-------+\n",
            "|movie_id|movie_title                                         |release_date|video_release_date|IMDb_URL                                                           |unknown|Action|Adventure|Animation|Children's|Comedy|Crime|Documentary|Drama|Fantasy|Film-Noir|Horror|Musical|Mystery|Romance|Sci-Fi|Thriller|War|Western|\n",
            "+--------+----------------------------------------------------+------------+------------------+-------------------------------------------------------------------+-------+------+---------+---------+----------+------+-----+-----------+-----+-------+---------+------+-------+-------+-------+------+--------+---+-------+\n",
            "|1       |Toy Story (1995)                                    |01-Jan-1995 |null              |http://us.imdb.com/M/title-exact?Toy%20Story%20(1995)              |0      |0     |0        |1        |1         |1     |0    |0          |0    |0      |0        |0     |0      |0      |0      |0     |0       |0  |0      |\n",
            "|2       |GoldenEye (1995)                                    |01-Jan-1995 |null              |http://us.imdb.com/M/title-exact?GoldenEye%20(1995)                |0      |1     |1        |0        |0         |0     |0    |0          |0    |0      |0        |0     |0      |0      |0      |0     |1       |0  |0      |\n",
            "|3       |Four Rooms (1995)                                   |01-Jan-1995 |null              |http://us.imdb.com/M/title-exact?Four%20Rooms%20(1995)             |0      |0     |0        |0        |0         |0     |0    |0          |0    |0      |0        |0     |0      |0      |0      |0     |1       |0  |0      |\n",
            "|4       |Get Shorty (1995)                                   |01-Jan-1995 |null              |http://us.imdb.com/M/title-exact?Get%20Shorty%20(1995)             |0      |1     |0        |0        |0         |1     |0    |0          |1    |0      |0        |0     |0      |0      |0      |0     |0       |0  |0      |\n",
            "|5       |Copycat (1995)                                      |01-Jan-1995 |null              |http://us.imdb.com/M/title-exact?Copycat%20(1995)                  |0      |0     |0        |0        |0         |0     |1    |0          |1    |0      |0        |0     |0      |0      |0      |0     |1       |0  |0      |\n",
            "|6       |Shanghai Triad (Yao a yao yao dao waipo qiao) (1995)|01-Jan-1995 |null              |http://us.imdb.com/Title?Yao+a+yao+yao+dao+waipo+qiao+(1995)       |0      |0     |0        |0        |0         |0     |0    |0          |1    |0      |0        |0     |0      |0      |0      |0     |0       |0  |0      |\n",
            "|7       |Twelve Monkeys (1995)                               |01-Jan-1995 |null              |http://us.imdb.com/M/title-exact?Twelve%20Monkeys%20(1995)         |0      |0     |0        |0        |0         |0     |0    |0          |1    |0      |0        |0     |0      |0      |0      |1     |0       |0  |0      |\n",
            "|8       |Babe (1995)                                         |01-Jan-1995 |null              |http://us.imdb.com/M/title-exact?Babe%20(1995)                     |0      |0     |0        |0        |1         |1     |0    |0          |1    |0      |0        |0     |0      |0      |0      |0     |0       |0  |0      |\n",
            "|9       |Dead Man Walking (1995)                             |01-Jan-1995 |null              |http://us.imdb.com/M/title-exact?Dead%20Man%20Walking%20(1995)     |0      |0     |0        |0        |0         |0     |0    |0          |1    |0      |0        |0     |0      |0      |0      |0     |0       |0  |0      |\n",
            "|10      |Richard III (1995)                                  |22-Jan-1996 |null              |http://us.imdb.com/M/title-exact?Richard%20III%20(1995)            |0      |0     |0        |0        |0         |0     |0    |0          |1    |0      |0        |0     |0      |0      |0      |0     |0       |1  |0      |\n",
            "|11      |Seven (Se7en) (1995)                                |01-Jan-1995 |null              |http://us.imdb.com/M/title-exact?Se7en%20(1995)                    |0      |0     |0        |0        |0         |0     |1    |0          |0    |0      |0        |0     |0      |0      |0      |0     |1       |0  |0      |\n",
            "|12      |Usual Suspects, The (1995)                          |14-Aug-1995 |null              |http://us.imdb.com/M/title-exact?Usual%20Suspects,%20The%20(1995)  |0      |0     |0        |0        |0         |0     |1    |0          |0    |0      |0        |0     |0      |0      |0      |0     |1       |0  |0      |\n",
            "|13      |Mighty Aphrodite (1995)                             |30-Oct-1995 |null              |http://us.imdb.com/M/title-exact?Mighty%20Aphrodite%20(1995)       |0      |0     |0        |0        |0         |1     |0    |0          |0    |0      |0        |0     |0      |0      |0      |0     |0       |0  |0      |\n",
            "|14      |Postino, Il (1994)                                  |01-Jan-1994 |null              |http://us.imdb.com/M/title-exact?Postino,%20Il%20(1994)            |0      |0     |0        |0        |0         |0     |0    |0          |1    |0      |0        |0     |0      |0      |1      |0     |0       |0  |0      |\n",
            "|15      |Mr. Holland's Opus (1995)                           |29-Jan-1996 |null              |http://us.imdb.com/M/title-exact?Mr.%20Holland's%20Opus%20(1995)   |0      |0     |0        |0        |0         |0     |0    |0          |1    |0      |0        |0     |0      |0      |0      |0     |0       |0  |0      |\n",
            "|16      |French Twist (Gazon maudit) (1995)                  |01-Jan-1995 |null              |http://us.imdb.com/M/title-exact?Gazon%20maudit%20(1995)           |0      |0     |0        |0        |0         |1     |0    |0          |0    |0      |0        |0     |0      |0      |1      |0     |0       |0  |0      |\n",
            "|17      |From Dusk Till Dawn (1996)                          |05-Feb-1996 |null              |http://us.imdb.com/M/title-exact?From%20Dusk%20Till%20Dawn%20(1996)|0      |1     |0        |0        |0         |1     |1    |0          |0    |0      |0        |1     |0      |0      |0      |0     |1       |0  |0      |\n",
            "|18      |White Balloon, The (1995)                           |01-Jan-1995 |null              |http://us.imdb.com/M/title-exact?Badkonake%20Sefid%20(1995)        |0      |0     |0        |0        |0         |0     |0    |0          |1    |0      |0        |0     |0      |0      |0      |0     |0       |0  |0      |\n",
            "|19      |Antonia's Line (1995)                               |01-Jan-1995 |null              |http://us.imdb.com/M/title-exact?Antonia%20(1995)                  |0      |0     |0        |0        |0         |0     |0    |0          |1    |0      |0        |0     |0      |0      |0      |0     |0       |0  |0      |\n",
            "|20      |Angels and Insects (1995)                           |01-Jan-1995 |null              |http://us.imdb.com/M/title-exact?Angels%20and%20Insects%20(1995)   |0      |0     |0        |0        |0         |0     |0    |0          |1    |0      |0        |0     |0      |0      |1      |0     |0       |0  |0      |\n",
            "+--------+----------------------------------------------------+------------+------------------+-------------------------------------------------------------------+-------+------+---------+---------+----------+------+-----+-----------+-----+-------+---------+------+-------+-------+-------+------+--------+---+-------+\n",
            "only showing top 20 rows\n",
            "\n",
            "root\n",
            " |-- movie_id: string (nullable = true)\n",
            " |-- movie_title: string (nullable = true)\n",
            " |-- release_date: string (nullable = true)\n",
            " |-- video_release_date: string (nullable = true)\n",
            " |-- IMDb_URL: string (nullable = true)\n",
            " |-- unknown: integer (nullable = true)\n",
            " |-- Action: integer (nullable = true)\n",
            " |-- Adventure: integer (nullable = true)\n",
            " |-- Animation: integer (nullable = true)\n",
            " |-- Children's: integer (nullable = true)\n",
            " |-- Comedy: integer (nullable = true)\n",
            " |-- Crime: integer (nullable = true)\n",
            " |-- Documentary: integer (nullable = true)\n",
            " |-- Drama: integer (nullable = true)\n",
            " |-- Fantasy: integer (nullable = true)\n",
            " |-- Film-Noir: integer (nullable = true)\n",
            " |-- Horror: integer (nullable = true)\n",
            " |-- Musical: integer (nullable = true)\n",
            " |-- Mystery: integer (nullable = true)\n",
            " |-- Romance: integer (nullable = true)\n",
            " |-- Sci-Fi: integer (nullable = true)\n",
            " |-- Thriller: integer (nullable = true)\n",
            " |-- War: integer (nullable = true)\n",
            " |-- Western: integer (nullable = true)\n",
            "\n"
          ]
        }
      ]
    },
    {
      "cell_type": "code",
      "source": [
        "\"\"\"\n",
        "Cоздать выходной файл в формате json, где Поле “Toy Story ” нужно заменить на название фильма, соответствующего id_film и\n",
        "указать для заданного фильма количество поставленных оценок в следующем порядке: \"1\", \"2\", \"3\", \"4\", \"5\". То есть сколько \n",
        "было единичек, двоек, троек и т.д. \n",
        "\"\"\"\n",
        "\n",
        "df_film = df_films.filter(F.col(\"movie_title\").like(\"Toy Story%\"))\n",
        "\n",
        "col_join = [df_evaluations[\"item_id\"] == df_film[\"movie_id\"]]\n",
        "\n",
        "df_one_film = (\n",
        "  df_evaluations\n",
        "    .join(df_film, col_join)\n",
        "    .groupBy(\"rating\")\n",
        "    .count()\n",
        "    .orderBy(\"rating\")\n",
        "    .withColumn(\"index\", F.lit(1))\n",
        "    .groupBy(\"index\")\n",
        "    .agg(\n",
        "      F.collect_list(\"count\").alias(\"Toy Story\"))\n",
        ")"
      ],
      "metadata": {
        "id": "oK_srQrWf0mM"
      },
      "execution_count": 18,
      "outputs": []
    },
    {
      "cell_type": "code",
      "source": [
        "# В поле “hist_all” нужно указать то же самое только для всех фильмов общее количество поставленных оценок в том же порядке: \"1\", \"2\", \"3\", \"4\", \"5\".\n",
        "\n",
        "df_all_films = (\n",
        "  df_evaluations\n",
        "    .groupBy(\"rating\")\n",
        "    .count()\n",
        "    .orderBy(\"rating\")\n",
        "    .withColumn(\"index\", F.lit(1))\n",
        "    .groupBy(\"index\")\n",
        "    .agg(\n",
        "      F.collect_list(\"count\").alias(\"hist_all\"))\n",
        ")"
      ],
      "metadata": {
        "id": "O3w0QawKf4ME"
      },
      "execution_count": 19,
      "outputs": []
    },
    {
      "cell_type": "code",
      "source": [
        "df_output = (\n",
        "  df_one_film\n",
        "    .join(df_all_films, \"index\")\n",
        "    .drop(\"index\")\n",
        ")"
      ],
      "metadata": {
        "id": "nccVYNLUf7Rh"
      },
      "execution_count": 20,
      "outputs": []
    },
    {
      "cell_type": "code",
      "source": [
        "(df_output\n",
        "  .write\n",
        "  .format(\"json\")\n",
        "  .mode(\"overwrite\")\n",
        "  .save(\"/content/output\")\n",
        ")"
      ],
      "metadata": {
        "id": "8SJHPLDUf9kN"
      },
      "execution_count": 21,
      "outputs": []
    },
    {
      "cell_type": "markdown",
      "source": [
        "![image.png](data:image/png;base64,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)"
      ],
      "metadata": {
        "id": "utILNVTBgD47"
      }
    },
    {
      "cell_type": "code",
      "source": [
        "spark.stop()"
      ],
      "metadata": {
        "id": "vyYHI4O-gBXC"
      },
      "execution_count": 22,
      "outputs": []
    }
  ]
}